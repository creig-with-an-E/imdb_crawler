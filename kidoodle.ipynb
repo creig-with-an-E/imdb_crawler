{
 "cells": [
  {
   "cell_type": "code",
   "execution_count": 164,
   "metadata": {},
   "outputs": [],
   "source": [
    "%config IPCompleter.greedy=True"
   ]
  },
  {
   "cell_type": "code",
   "execution_count": 165,
   "metadata": {},
   "outputs": [],
   "source": [
    "from requests import get\n",
    "from bs4 import BeautifulSoup\n",
    "import pandas as pd\n",
    "from time import time, sleep\n",
    "from random import randint\n",
    "from IPython.core.display import clear_output\n",
    "from warnings import warn\n",
    "import csv\n",
    "from urllib.parse import quote\n",
    "import re"
   ]
  },
  {
   "cell_type": "code",
   "execution_count": null,
   "metadata": {},
   "outputs": [],
   "source": []
  },
  {
   "cell_type": "code",
   "execution_count": 166,
   "metadata": {},
   "outputs": [],
   "source": [
    "# get list of shows\n",
    "series_names = []\n",
    "\n",
    "with open('data/series_list_08-18-2020.csv','r') as series_data:\n",
    "    csv_reader = csv.reader(series_data, delimiter=',')\n",
    "    next(csv_reader, None)\n",
    "    for row in csv_reader:\n",
    "        series_names.append(row[2])"
   ]
  },
  {
   "cell_type": "code",
   "execution_count": null,
   "metadata": {},
   "outputs": [],
   "source": []
  },
  {
   "cell_type": "code",
   "execution_count": 167,
   "metadata": {},
   "outputs": [],
   "source": [
    "names = []\n",
    "premiere_years = []\n",
    "finale_years = []\n",
    "imdb_ratings = []\n",
    "series_slice_1 = slice(0,50)\n",
    "series_slice_2 = slice(50,70)"
   ]
  },
  {
   "cell_type": "code",
   "execution_count": 168,
   "metadata": {},
   "outputs": [
    {
     "name": "stdout",
     "output_type": "stream",
     "text": [
      "Request: 20; Frequency: 0.07644569420065388 requests/s\n"
     ]
    }
   ],
   "source": [
    "start_time = time()\n",
    "\n",
    "# url definition\n",
    "# url = 'https://www.imdb.com/find?q=Sunny+Bunnies&ref_=nv_sr_sm'\n",
    "# url = 'https://www.imdb.com/search/title/?title=oddbods&title_type=tv_series'\n",
    "base_url = 'https://www.imdb.com'\n",
    "collated_results = []\n",
    "sent_requests = 0\n",
    "not_found = []\n",
    "\n",
    "for series in series_names[series_slice_2]:\n",
    "    url = base_url + '/find?s=tt&q={}&exact=true'.format(quote(series))\n",
    "#     url = base_url + '/find?s=tt&q={}&exact=true'.format(quote(series))\n",
    "    response = get(url)\n",
    "    \n",
    "    # pause the loop\n",
    "    sleep(randint(8,15))\n",
    "    \n",
    "    # monitor the requests\n",
    "    sent_requests += 1\n",
    "    elapsed_time = time() - start_time\n",
    "    print('Request: {}; Frequency: {} requests/s'.format(sent_requests, sent_requests/elapsed_time))\n",
    "    clear_output(wait=True)\n",
    "    \n",
    "    # throw warnings for none 200 status\n",
    "    if response.status_code != 200:\n",
    "        warn('Request: {}; Status code: {}'.format(requests, response.status_code))\n",
    "        continue\n",
    "    page_html = BeautifulSoup(response.text,'html.parser')\n",
    "    \n",
    "    # results table\n",
    "    result = page_html.find('tr', class_='findResult')\n",
    "    \n",
    "    if not result:\n",
    "        not_found.append(series)\n",
    "    if result:\n",
    "        \n",
    "        # remove useless string parts'(TV Series)'\n",
    "        sub_str = '(TV Series)'\n",
    "        r = result.text.strip()\n",
    "        r = re.sub('\\(%s\\)' % sub_str, '', r)\n",
    "        \n",
    "        result_list = list(filter(None,r.strip().split(' ')))\n",
    "        # get years\n",
    "        \n",
    "        try:\n",
    "            pr_year, fin_year = result_list[-1].split('-')\n",
    "        except ValueError:\n",
    "            pr_year = split_str[-1]\n",
    "            fin_year = None\n",
    "            \n",
    "        pr_year = re.sub(r\"[^0-9]+\", \"\", pr_year)\n",
    "        if fin_year:\n",
    "            fin_year = int(re.sub(r\"[^0-9]+\", \"\", fin_year))\n",
    "        premiere_years.append(int(pr_year))\n",
    "        finale_years.append(fin_year)\n",
    "        \n",
    "        # get name\n",
    "        name = ' '.join(result_list[:-1])\n",
    "        names.append(name)\n",
    "        "
   ]
  },
  {
   "cell_type": "code",
   "execution_count": 159,
   "metadata": {},
   "outputs": [
    {
     "data": {
      "text/plain": [
       "[2015, 2015, 2015, 2015, 2015, 2015, 2015, 2015, 2015, 2015, 2015]"
      ]
     },
     "execution_count": 159,
     "metadata": {},
     "output_type": "execute_result"
    }
   ],
   "source": [
    "premiere_years"
   ]
  },
  {
   "cell_type": "code",
   "execution_count": 160,
   "metadata": {},
   "outputs": [
    {
     "data": {
      "text/plain": [
       "['Ruby Gloom',\n",
       " 'Anatole',\n",
       " 'Pet Alien',\n",
       " 'Just Kidding',\n",
       " 'Cyw a\\'i Ffrindiau (2018) aka \"Chickpea and',\n",
       " 'Hippothesis',\n",
       " 'George and Martha',\n",
       " 'Puppy Time',\n",
       " 'Booba',\n",
       " 'Super Wings!']"
      ]
     },
     "execution_count": 160,
     "metadata": {},
     "output_type": "execute_result"
    }
   ],
   "source": [
    "names"
   ]
  },
  {
   "cell_type": "code",
   "execution_count": 163,
   "metadata": {},
   "outputs": [
    {
     "data": {
      "text/plain": [
       "[None, None, None, None, None, None, None, None, None, None]"
      ]
     },
     "execution_count": 163,
     "metadata": {},
     "output_type": "execute_result"
    }
   ],
   "source": [
    "finale_years"
   ]
  },
  {
   "cell_type": "code",
   "execution_count": 9,
   "metadata": {},
   "outputs": [
    {
     "data": {
      "text/plain": [
       "'23.66'"
      ]
     },
     "execution_count": 9,
     "metadata": {},
     "output_type": "execute_result"
    }
   ],
   "source": [
    "'{:.2f}'.format(22/93*100)"
   ]
  },
  {
   "cell_type": "code",
   "execution_count": null,
   "metadata": {},
   "outputs": [],
   "source": []
  }
 ],
 "metadata": {
  "kernelspec": {
   "display_name": "scraper",
   "language": "python",
   "name": "scraper"
  },
  "language_info": {
   "codemirror_mode": {
    "name": "ipython",
    "version": 3
   },
   "file_extension": ".py",
   "mimetype": "text/x-python",
   "name": "python",
   "nbconvert_exporter": "python",
   "pygments_lexer": "ipython3",
   "version": "3.8.0"
  }
 },
 "nbformat": 4,
 "nbformat_minor": 4
}
