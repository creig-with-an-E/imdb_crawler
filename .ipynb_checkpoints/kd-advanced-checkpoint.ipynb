{
 "cells": [
  {
   "cell_type": "code",
   "execution_count": 3,
   "metadata": {},
   "outputs": [],
   "source": [
    "%config IPCompleter.greedy=True"
   ]
  },
  {
   "cell_type": "code",
   "execution_count": null,
   "metadata": {},
   "outputs": [],
   "source": []
  },
  {
   "cell_type": "code",
   "execution_count": 45,
   "metadata": {},
   "outputs": [],
   "source": [
    "from requests import get\n",
    "from bs4 import BeautifulSoup\n",
    "import pandas as pd\n",
    "from time import sleep, time\n",
    "from random import randint\n",
    "from IPython.core.display import clear_output\n",
    "from warnings import warn\n",
    "from urllib.parse import quote\n",
    "import csv\n",
    "import numpy\n",
    "from math import ceil"
   ]
  },
  {
   "cell_type": "code",
   "execution_count": null,
   "metadata": {},
   "outputs": [],
   "source": []
  },
  {
   "cell_type": "code",
   "execution_count": 31,
   "metadata": {},
   "outputs": [],
   "source": [
    "series_names = []\n",
    "\n",
    "with open('data/series_list_08-18-2020.csv','r') as series_data:\n",
    "    csv_reader = csv.reader(series_data, delimiter=',')\n",
    "    next(csv_reader, None)\n",
    "    for row in csv_reader:\n",
    "        series_names.append(row[2])"
   ]
  },
  {
   "cell_type": "code",
   "execution_count": null,
   "metadata": {},
   "outputs": [],
   "source": []
  },
  {
   "cell_type": "code",
   "execution_count": 33,
   "metadata": {},
   "outputs": [
    {
     "data": {
      "text/plain": [
       "829"
      ]
     },
     "execution_count": 33,
     "metadata": {},
     "output_type": "execute_result"
    }
   ],
   "source": [
    "len(series_names)"
   ]
  },
  {
   "cell_type": "code",
   "execution_count": 77,
   "metadata": {},
   "outputs": [],
   "source": [
    "series_slices = []"
   ]
  },
  {
   "cell_type": "code",
   "execution_count": 78,
   "metadata": {},
   "outputs": [],
   "source": [
    "start = 0\n",
    "end = 25\n",
    "increment = 25\n",
    "for i in range(ceil(len(series_names)/increment)):\n",
    "    series_slices.append(slice(start, end))\n",
    "    start = end\n",
    "    end += increment"
   ]
  },
  {
   "cell_type": "code",
   "execution_count": null,
   "metadata": {},
   "outputs": [],
   "source": []
  },
  {
   "cell_type": "code",
   "execution_count": null,
   "metadata": {},
   "outputs": [],
   "source": []
  },
  {
   "cell_type": "code",
   "execution_count": null,
   "metadata": {},
   "outputs": [],
   "source": []
  },
  {
   "cell_type": "code",
   "execution_count": 107,
   "metadata": {},
   "outputs": [],
   "source": [
    "def search_imdb(data):\n",
    "    start_time = time()\n",
    "    requests = 0\n",
    "    headers = {}\n",
    "    \n",
    "    names = []\n",
    "    years = []\n",
    "    imdb_ratings = []\n",
    "    meta_scores = []\n",
    "    votes = []\n",
    "    \n",
    "    for series in data:\n",
    "    #     url = 'https://www.imdb.com/search/title/?title=Sunny+Bunnies&title_type=tv_series'\n",
    "        params = quote(series)\n",
    "        response = get(\n",
    "            'https://www.imdb.com/search/title/?title={}&title_type=tv_series'.format(params),\n",
    "            headers = headers)\n",
    "\n",
    "        # pause the loop\n",
    "        sleep(randint(8,15))\n",
    "\n",
    "        # monitor the requests\n",
    "        requests += 1\n",
    "        elapsed_time = time() - start_time\n",
    "\n",
    "        print('Request: {}; Timelapsed: {}; Progress: {:.2f}%'.format(requests, elapsed_time, (requests/len(data)) * 100))\n",
    "        clear_output(wait=True)\n",
    "\n",
    "        # throw waring for none 200 status\n",
    "        if response.status_code !=200:\n",
    "            warn('Request: {}; Status code: {}'.format(requests, response.status_code))\n",
    "            continue\n",
    "\n",
    "        page_html = BeautifulSoup(response.text,'html.parser')\n",
    "        mv_containers = page_html.find_all('div', class_='lister-item mode-advanced')[0:1]\n",
    "\n",
    "     # iterate over movies on the page\n",
    "        for container in mv_containers:\n",
    "            if container.find('div', class_='ratings-metascore') is not None:\n",
    "                metascore = container.find('div', class_='ratings-metascore').text\n",
    "                meta_scores.append(metascore)\n",
    "\n",
    "            # get name\n",
    "            name = container.h3.a.text\n",
    "            names.append(name)\n",
    "\n",
    "            # get year\n",
    "            year = container.h3.find('span', class_='lister-item-year').text\n",
    "            years.append(year)\n",
    "\n",
    "            # get imd rating\n",
    "            try:\n",
    "                imdb = float(container.strong.text)\n",
    "            except:\n",
    "                imdb = None\n",
    "            imdb_ratings.append(imdb)\n",
    "            \n",
    "    data_set = pd.DataFrame({\n",
    "        'series': names,\n",
    "        'imdb': imdb_ratings,\n",
    "        'years': years\n",
    "    })\n",
    "    return data_set"
   ]
  },
  {
   "cell_type": "code",
   "execution_count": null,
   "metadata": {},
   "outputs": [],
   "source": []
  },
  {
   "cell_type": "code",
   "execution_count": 105,
   "metadata": {},
   "outputs": [],
   "source": [
    "# as this is too large shall fetch in batches"
   ]
  },
  {
   "cell_type": "code",
   "execution_count": null,
   "metadata": {},
   "outputs": [],
   "source": []
  },
  {
   "cell_type": "code",
   "execution_count": 99,
   "metadata": {},
   "outputs": [
    {
     "name": "stdout",
     "output_type": "stream",
     "text": [
      "Request: 25; Timelapsed: 310.59508419036865; Progress: 100.00%\n"
     ]
    }
   ],
   "source": [
    "### chunk 1\n",
    "# controlling the crawl rate\n",
    "# else will have ip blocked\n",
    "\n",
    "data = series_names[series_slices[0]]\n",
    "batch_1 = search_imdb(data)\n"
   ]
  },
  {
   "cell_type": "code",
   "execution_count": null,
   "metadata": {},
   "outputs": [],
   "source": []
  },
  {
   "cell_type": "code",
   "execution_count": 100,
   "metadata": {},
   "outputs": [
    {
     "data": {
      "text/html": [
       "<div>\n",
       "<style scoped>\n",
       "    .dataframe tbody tr th:only-of-type {\n",
       "        vertical-align: middle;\n",
       "    }\n",
       "\n",
       "    .dataframe tbody tr th {\n",
       "        vertical-align: top;\n",
       "    }\n",
       "\n",
       "    .dataframe thead th {\n",
       "        text-align: right;\n",
       "    }\n",
       "</style>\n",
       "<table border=\"1\" class=\"dataframe\">\n",
       "  <thead>\n",
       "    <tr style=\"text-align: right;\">\n",
       "      <th></th>\n",
       "      <th>series</th>\n",
       "      <th>imdb</th>\n",
       "      <th>years</th>\n",
       "    </tr>\n",
       "  </thead>\n",
       "  <tbody>\n",
       "    <tr>\n",
       "      <th>0</th>\n",
       "      <td>A Test Series</td>\n",
       "      <td>6.1</td>\n",
       "      <td>(2016–2019)</td>\n",
       "    </tr>\n",
       "    <tr>\n",
       "      <th>1</th>\n",
       "      <td>Pucca</td>\n",
       "      <td>6.7</td>\n",
       "      <td>(2006–2008)</td>\n",
       "    </tr>\n",
       "    <tr>\n",
       "      <th>2</th>\n",
       "      <td>Gummibär &amp; Friends: The Gummy Bear Show</td>\n",
       "      <td>3.5</td>\n",
       "      <td>(2016– )</td>\n",
       "    </tr>\n",
       "    <tr>\n",
       "      <th>3</th>\n",
       "      <td>Flying Rhino Junior High</td>\n",
       "      <td>6.7</td>\n",
       "      <td>(1998–2000)</td>\n",
       "    </tr>\n",
       "    <tr>\n",
       "      <th>4</th>\n",
       "      <td>Timothy Goes to School</td>\n",
       "      <td>6.4</td>\n",
       "      <td>(2000– )</td>\n",
       "    </tr>\n",
       "    <tr>\n",
       "      <th>5</th>\n",
       "      <td>Mother Goose Stories</td>\n",
       "      <td>8.0</td>\n",
       "      <td>(1990–1993)</td>\n",
       "    </tr>\n",
       "  </tbody>\n",
       "</table>\n",
       "</div>"
      ],
      "text/plain": [
       "                                    series  imdb        years\n",
       "0                            A Test Series   6.1  (2016–2019)\n",
       "1                                    Pucca   6.7  (2006–2008)\n",
       "2  Gummibär & Friends: The Gummy Bear Show   3.5     (2016– )\n",
       "3                 Flying Rhino Junior High   6.7  (1998–2000)\n",
       "4                   Timothy Goes to School   6.4     (2000– )\n",
       "5                     Mother Goose Stories   8.0  (1990–1993)"
      ]
     },
     "execution_count": 100,
     "metadata": {},
     "output_type": "execute_result"
    }
   ],
   "source": [
    "batch_1"
   ]
  },
  {
   "cell_type": "code",
   "execution_count": null,
   "metadata": {},
   "outputs": [],
   "source": []
  },
  {
   "cell_type": "code",
   "execution_count": 108,
   "metadata": {},
   "outputs": [
    {
     "name": "stdout",
     "output_type": "stream",
     "text": [
      "Request: 25; Timelapsed: 297.8365559577942; Progress: 100.00%\n"
     ]
    }
   ],
   "source": [
    "# # chunk 2\n",
    "data = series_names[series_slices[1]]\n",
    "batch_2 = search_imdb(data)"
   ]
  },
  {
   "cell_type": "code",
   "execution_count": null,
   "metadata": {},
   "outputs": [],
   "source": []
  },
  {
   "cell_type": "code",
   "execution_count": 109,
   "metadata": {},
   "outputs": [
    {
     "data": {
      "text/html": [
       "<div>\n",
       "<style scoped>\n",
       "    .dataframe tbody tr th:only-of-type {\n",
       "        vertical-align: middle;\n",
       "    }\n",
       "\n",
       "    .dataframe tbody tr th {\n",
       "        vertical-align: top;\n",
       "    }\n",
       "\n",
       "    .dataframe thead th {\n",
       "        text-align: right;\n",
       "    }\n",
       "</style>\n",
       "<table border=\"1\" class=\"dataframe\">\n",
       "  <thead>\n",
       "    <tr style=\"text-align: right;\">\n",
       "      <th></th>\n",
       "      <th>series</th>\n",
       "      <th>imdb</th>\n",
       "      <th>years</th>\n",
       "    </tr>\n",
       "  </thead>\n",
       "  <tbody>\n",
       "    <tr>\n",
       "      <th>0</th>\n",
       "      <td>The Ollie &amp; Moon Show</td>\n",
       "      <td>8.2</td>\n",
       "      <td>(2017– )</td>\n",
       "    </tr>\n",
       "    <tr>\n",
       "      <th>1</th>\n",
       "      <td>Elvis and Benny</td>\n",
       "      <td>NaN</td>\n",
       "      <td>(2018– )</td>\n",
       "    </tr>\n",
       "    <tr>\n",
       "      <th>2</th>\n",
       "      <td>I Got a Rocket!</td>\n",
       "      <td>5.9</td>\n",
       "      <td>(2006–2007)</td>\n",
       "    </tr>\n",
       "    <tr>\n",
       "      <th>3</th>\n",
       "      <td>Sidekicks</td>\n",
       "      <td>7.3</td>\n",
       "      <td>(1986–1987)</td>\n",
       "    </tr>\n",
       "    <tr>\n",
       "      <th>4</th>\n",
       "      <td>Redwall</td>\n",
       "      <td>8.2</td>\n",
       "      <td>(1999– )</td>\n",
       "    </tr>\n",
       "    <tr>\n",
       "      <th>5</th>\n",
       "      <td>Jake and the Kid</td>\n",
       "      <td>7.6</td>\n",
       "      <td>(1995–1999)</td>\n",
       "    </tr>\n",
       "    <tr>\n",
       "      <th>6</th>\n",
       "      <td>The Koala Brothers</td>\n",
       "      <td>6.9</td>\n",
       "      <td>(2003– )</td>\n",
       "    </tr>\n",
       "    <tr>\n",
       "      <th>7</th>\n",
       "      <td>Mr. Young</td>\n",
       "      <td>6.1</td>\n",
       "      <td>(2011–2013)</td>\n",
       "    </tr>\n",
       "  </tbody>\n",
       "</table>\n",
       "</div>"
      ],
      "text/plain": [
       "                  series  imdb        years\n",
       "0  The Ollie & Moon Show   8.2     (2017– )\n",
       "1        Elvis and Benny   NaN     (2018– )\n",
       "2        I Got a Rocket!   5.9  (2006–2007)\n",
       "3              Sidekicks   7.3  (1986–1987)\n",
       "4                Redwall   8.2     (1999– )\n",
       "5       Jake and the Kid   7.6  (1995–1999)\n",
       "6     The Koala Brothers   6.9     (2003– )\n",
       "7              Mr. Young   6.1  (2011–2013)"
      ]
     },
     "execution_count": 109,
     "metadata": {},
     "output_type": "execute_result"
    }
   ],
   "source": [
    "batch_2"
   ]
  },
  {
   "cell_type": "code",
   "execution_count": null,
   "metadata": {},
   "outputs": [],
   "source": []
  }
 ],
 "metadata": {
  "kernelspec": {
   "display_name": "scraper",
   "language": "python",
   "name": "scraper"
  },
  "language_info": {
   "codemirror_mode": {
    "name": "ipython",
    "version": 3
   },
   "file_extension": ".py",
   "mimetype": "text/x-python",
   "name": "python",
   "nbconvert_exporter": "python",
   "pygments_lexer": "ipython3",
   "version": "3.8.0"
  }
 },
 "nbformat": 4,
 "nbformat_minor": 4
}
