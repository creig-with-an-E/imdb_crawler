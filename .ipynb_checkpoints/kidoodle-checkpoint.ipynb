{
 "cells": [
  {
   "cell_type": "code",
   "execution_count": 1,
   "metadata": {},
   "outputs": [],
   "source": [
    "%config IPCompleter.greedy=True"
   ]
  },
  {
   "cell_type": "code",
   "execution_count": 9,
   "metadata": {},
   "outputs": [],
   "source": [
    "from requests import get\n",
    "from bs4 import BeautifulSoup\n",
    "import pandas as pd\n",
    "from time import time, sleep\n",
    "from random import randint\n",
    "from IPython.core.display import clear_output\n",
    "from warnings import warn\n",
    "import csv\n",
    "from urllib.parse import quote\n",
    "import re"
   ]
  },
  {
   "cell_type": "code",
   "execution_count": null,
   "metadata": {},
   "outputs": [],
   "source": []
  },
  {
   "cell_type": "code",
   "execution_count": 10,
   "metadata": {},
   "outputs": [],
   "source": [
    "# get list of shows\n",
    "series_names = []\n",
    "\n",
    "with open('data/series_list_08-18-2020.csv','r') as series_data:\n",
    "    csv_reader = csv.reader(series_data, delimiter=',')\n",
    "    next(csv_reader, None)\n",
    "    for row in csv_reader:\n",
    "        series_names.append(row[2])"
   ]
  },
  {
   "cell_type": "code",
   "execution_count": null,
   "metadata": {},
   "outputs": [],
   "source": []
  },
  {
   "cell_type": "code",
   "execution_count": 117,
   "metadata": {},
   "outputs": [],
   "source": [
    "names = []\n",
    "premiere_years = []\n",
    "finale_years = []\n",
    "imdb_ratings = []"
   ]
  },
  {
   "cell_type": "code",
   "execution_count": 120,
   "metadata": {},
   "outputs": [
    {
     "name": "stdout",
     "output_type": "stream",
     "text": [
      "['Sunny', 'Bunnies', '(2015)', '']\n"
     ]
    }
   ],
   "source": [
    "start_time = time()\n",
    "\n",
    "# url definition\n",
    "# url = 'https://www.imdb.com/find?q=Sunny+Bunnies&ref_=nv_sr_sm'\n",
    "base_url = 'https://www.imdb.com'\n",
    "series_names = ['Sunny Bunnies']\n",
    "collated_results = []\n",
    "sent_requests = 0\n",
    "\n",
    "for series in series_names:\n",
    "    url = base_url + '/find?q={}&exact=true'.format(quote(series))\n",
    "    response = get(url)\n",
    "    \n",
    "    # pause the loop\n",
    "    sleep(randint(8,15))\n",
    "    \n",
    "    # monitor the requests\n",
    "    sent_requests += 1\n",
    "    elapsed_time = time() - start_time\n",
    "    print('Request: {}; Frequency: {} requests/s'.format(sent_requests, sent_requests/elapsed_time))\n",
    "    clear_output(wait=True)\n",
    "    \n",
    "    # throw warnings for none 200 status\n",
    "    if response.status_code != 200:\n",
    "        warn('Request: {}; Status code: {}'.format(requests, response.status_code))\n",
    "        continue\n",
    "    page_html = BeautifulSoup(response.text,'html.parser')\n",
    "    \n",
    "    # results table\n",
    "    result = page_html.find('tr', class_='findResult')\n",
    "    if result:\n",
    "        \n",
    "        # remove useless string parts'(TV Series)'\n",
    "        sub_str = '(TV Series)'\n",
    "        r = result.text.strip()\n",
    "        r = re.sub('\\(%s\\)' % sub_str, '', r).strip('')\n",
    "        \n",
    "        split_str = r.split(' ')\n",
    "        print(split_str)\n",
    "        # get years\n",
    "        \n",
    "        p_year = split_str[-1]\n",
    "        f_year = None\n",
    "        premiere_years.append(p_year)\n",
    "        finale_years.append(f_year)\n",
    "        \n",
    "        # get name\n",
    "        name = split_str[:-1]\n",
    "        "
   ]
  },
  {
   "cell_type": "code",
   "execution_count": 116,
   "metadata": {
    "scrolled": true
   },
   "outputs": [
    {
     "data": {
      "text/plain": [
       "['', '', '', '', '']"
      ]
     },
     "execution_count": 116,
     "metadata": {},
     "output_type": "execute_result"
    }
   ],
   "source": [
    "premiere_years"
   ]
  },
  {
   "cell_type": "code",
   "execution_count": null,
   "metadata": {},
   "outputs": [],
   "source": []
  },
  {
   "cell_type": "code",
   "execution_count": 91,
   "metadata": {},
   "outputs": [],
   "source": [
    "c = 'Sunny Bunnies (2015-2020)'"
   ]
  },
  {
   "cell_type": "code",
   "execution_count": 95,
   "metadata": {},
   "outputs": [],
   "source": [
    "years = c.split(' ')[-1]\n",
    "names = c.split(' ')[:-1]"
   ]
  },
  {
   "cell_type": "code",
   "execution_count": 96,
   "metadata": {},
   "outputs": [
    {
     "data": {
      "text/plain": [
       "'(2015-2020)'"
      ]
     },
     "execution_count": 96,
     "metadata": {},
     "output_type": "execute_result"
    }
   ],
   "source": [
    "years"
   ]
  },
  {
   "cell_type": "code",
   "execution_count": 102,
   "metadata": {},
   "outputs": [
    {
     "data": {
      "text/plain": [
       "'Sunny Bunnies'"
      ]
     },
     "execution_count": 102,
     "metadata": {},
     "output_type": "execute_result"
    }
   ],
   "source": [
    "' '.join(names)"
   ]
  },
  {
   "cell_type": "code",
   "execution_count": null,
   "metadata": {},
   "outputs": [],
   "source": []
  },
  {
   "cell_type": "code",
   "execution_count": 90,
   "metadata": {},
   "outputs": [
    {
     "name": "stdout",
     "output_type": "stream",
     "text": [
      "None\n"
     ]
    }
   ],
   "source": [
    "print(b)"
   ]
  },
  {
   "cell_type": "code",
   "execution_count": 111,
   "metadata": {},
   "outputs": [
    {
     "data": {
      "text/plain": [
       "'2016'"
      ]
     },
     "execution_count": 111,
     "metadata": {},
     "output_type": "execute_result"
    }
   ],
   "source": [
    "re.sub(r\"[^0-9]+\", \"\", '(2016)')"
   ]
  },
  {
   "cell_type": "code",
   "execution_count": null,
   "metadata": {},
   "outputs": [],
   "source": []
  },
  {
   "cell_type": "code",
   "execution_count": null,
   "metadata": {},
   "outputs": [],
   "source": []
  }
 ],
 "metadata": {
  "kernelspec": {
   "display_name": "scraper",
   "language": "python",
   "name": "scraper"
  },
  "language_info": {
   "codemirror_mode": {
    "name": "ipython",
    "version": 3
   },
   "file_extension": ".py",
   "mimetype": "text/x-python",
   "name": "python",
   "nbconvert_exporter": "python",
   "pygments_lexer": "ipython3",
   "version": "3.8.0"
  }
 },
 "nbformat": 4,
 "nbformat_minor": 4
}
